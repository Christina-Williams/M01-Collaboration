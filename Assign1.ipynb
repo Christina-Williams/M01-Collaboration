{
 "cells": [
  {
   "cell_type": "code",
   "execution_count": 1,
   "metadata": {},
   "outputs": [
    {
     "name": "stdout",
     "output_type": "stream",
     "text": [
      "3600\n",
      "86400\n"
     ]
    }
   ],
   "source": [
    "#3.1 How many seconds are in an hour, 3.2 assign the variable\n",
    "sec_per_hour = 60 * 60\n",
    "\n",
    "#3.3 How many seconds in a day, 3.4 assign the varibale\n",
    "sec_per_day = sec_per_hour * 24\n",
    "\n",
    "#3.5 Divide sec_per_day by sec_per_hour, float point division\n",
    "sec_per_day / sec_per_hour\n",
    "\n",
    "#3.6 divide sec_per_day by sec_per_hour, use float point division\n",
    "sec_per_day // sec_per_hour\n",
    "\n",
    "print(sec_per_hour)\n",
    "\n",
    "print(sec_per_day)"
   ]
  }
 ],
 "metadata": {
  "kernelspec": {
   "display_name": "Python 3.10.8 64-bit (microsoft store)",
   "language": "python",
   "name": "python3"
  },
  "language_info": {
   "codemirror_mode": {
    "name": "ipython",
    "version": 3
   },
   "file_extension": ".py",
   "mimetype": "text/x-python",
   "name": "python",
   "nbconvert_exporter": "python",
   "pygments_lexer": "ipython3",
   "version": "3.10.8"
  },
  "orig_nbformat": 4,
  "vscode": {
   "interpreter": {
    "hash": "8d2ee87e49291047414906593ab036edc998169b13323babc23d774bec59d9b1"
   }
  }
 },
 "nbformat": 4,
 "nbformat_minor": 2
}
