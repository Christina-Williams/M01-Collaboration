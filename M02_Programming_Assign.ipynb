{
 "cells": [
  {
   "cell_type": "code",
   "execution_count": null,
   "metadata": {},
   "outputs": [],
   "source": [
    "#4.1 Choose a number between 1 and 10 and assign it to the variable secret. \n",
    "# Select another number between 1 and 10 and assign it to the variable guess\n",
    "secret=2\n",
    "guess=5\n",
    "\n",
    "#Write the conditional tests (if, else, and elif) to print the string 'too low' if guess is less than secret\n",
    "#'too high' if greater than secret\n",
    "#'just right' if equal to secret.\n",
    "if guess <secret: print(\"Too low\")\n",
    "elif guess >secret: print (\"Too high\")\n",
    "else : print (\"Just Right\")\n"
   ]
  },
  {
   "cell_type": "code",
   "execution_count": null,
   "metadata": {},
   "outputs": [],
   "source": [
    "#4.2 Assign True or False to the variables small and green. \n",
    "#Write some if/else statements to print which of these matches those choices: cherry, pea, watermelon, pumpkin.\n",
    "\n",
    "small = True\n",
    "green= False\n",
    "\n",
    "watermelon = ()\n",
    "pea = ()\n",
    "cherry = ()\n",
    "pumpkin = ()\n",
    "\n",
    "if cherry or pumpkin: print (small)\n",
    "else: print (green)\n",
    "\n"
   ]
  },
  {
   "cell_type": "code",
   "execution_count": null,
   "metadata": {},
   "outputs": [],
   "source": [
    "#6.1 Use a for loop to print the values of the list [3, 2, 1, 0]\n",
    "\n",
    "numlists = ['3', '2', '1', '0']\n",
    "for numlist in numlists:\n",
    "    print(numlist)\n"
   ]
  },
  {
   "cell_type": "code",
   "execution_count": null,
   "metadata": {},
   "outputs": [],
   "source": [
    "#6.2 Assign the value 7 to the variable guess_me, and the value 1 to the variable number\n",
    "guess_me = 7\n",
    "number=1\n",
    "#Write a while loop that compares number with guess_me\n",
    "#Print 'too low' if number is less than guess me\n",
    "#If number equals guess_me, print 'found it!'\n",
    "#If number is greater than guess_me, print 'oops' and then exit the loop.\n",
    "#Increment number at the end of the loop.\n",
    "while True:\n",
    "    if number < guess_me:\n",
    "        print(\"Too Low\")\n",
    "    elif number == guess_me:\n",
    "        print (\"Found it!\")\n",
    "    elif number > guess_me:\n",
    "        print (\"oops\") \n",
    "        break\n",
    "    number+=1\n",
    "print(number)\n"
   ]
  },
  {
   "cell_type": "code",
   "execution_count": null,
   "metadata": {},
   "outputs": [],
   "source": [
    "#6.3 Assign the value 5 to the variable guess_me, and the value 1 to the variable number\n",
    "guess_me=5\n",
    "number=()\n",
    "#Use a for loop to iterate a variable called number over range(10)\n",
    "#If number is less than guess_me, print 'too low'\n",
    "#If it equals guess_me, print found it!\n",
    "#break out of the for loop\n",
    "#If number is greater than guess_me, print 'oops' and then exit the loop\n",
    "\n",
    "for number in range(10):\n",
    "    if number < guess_me:\n",
    "        print(\"too low\")\n",
    "    if number == guess_me:\n",
    "        print(\"found it\")\n",
    "        break\n",
    "    if number > guess_me:\n",
    "        print(\"too high\")\n",
    "        break\n",
    "\n",
    "\n",
    "\n",
    "\n"
   ]
  }
 ],
 "metadata": {
  "kernelspec": {
   "display_name": "Python 3.10.8 64-bit (microsoft store)",
   "language": "python",
   "name": "python3"
  },
  "language_info": {
   "name": "python",
   "version": "3.10.8"
  },
  "orig_nbformat": 4,
  "vscode": {
   "interpreter": {
    "hash": "8d2ee87e49291047414906593ab036edc998169b13323babc23d774bec59d9b1"
   }
  }
 },
 "nbformat": 4,
 "nbformat_minor": 2
}
